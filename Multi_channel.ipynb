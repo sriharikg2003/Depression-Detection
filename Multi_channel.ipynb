{
  "cells": [
    {
      "cell_type": "code",
      "execution_count": null,
      "metadata": {
        "colab": {
          "base_uri": "https://localhost:8080/"
        },
        "id": "a9HcWB4P63qI",
        "outputId": "4de1e90b-ff4b-425d-803d-7e4451ffb9ef"
      },
      "outputs": [
        {
          "output_type": "stream",
          "name": "stdout",
          "text": [
            "Mounted at /content/drive\n"
          ]
        }
      ],
      "source": [
        "from google.colab import drive\n",
        "drive.mount('/content/drive')"
      ]
    },
    {
      "cell_type": "code",
      "execution_count": null,
      "metadata": {
        "id": "iQ3ZcLlkFwiD"
      },
      "outputs": [],
      "source": [
        "import sys\n",
        "sys.path.insert(0, \"/content/drive/MyDrive/RnD/am_analysis/\")\n",
        "import am_analysis as ama\n",
        "import skimage.metrics as metrics\n",
        "import numpy as np\n",
        "import matplotlib.pyplot as plt\n",
        "from scipy.io import wavfile\n",
        "import glob\n",
        "from IPython.display import Audio\n",
        "from tqdm import tqdm\n",
        "from IPython.display import Audio\n",
        "import sys\n",
        "import pandas as pd"
      ]
    },
    {
      "cell_type": "code",
      "execution_count": null,
      "metadata": {
        "id": "ymfcgAJlOapY"
      },
      "outputs": [],
      "source": [
        "# FUNCTIONS FOR MODULATION SPECTROGRAM\n",
        "def modSpec(x, fs,win_size_sec=0.04):\n",
        "    # win_size_sec = 0.04  # window length for the STFFT (seconds)\n",
        "    win_shft_sec = 0.01  # shift between consecutive windows (seconds)\n",
        "\n",
        "    stft_modulation_spectrogram = ama.strfft_modulation_spectrogram(\n",
        "        x,\n",
        "        fs,\n",
        "        win_size=round(win_size_sec * fs),\n",
        "        win_shift=round(win_shft_sec * fs))\n",
        "\n",
        "    return stft_modulation_spectrogram\n",
        "\n",
        "def specImage(filename,win_size_sec=0.04):\n",
        "    fs, x = wavfile.read(filename)\n",
        "    x_name = ['speech']\n",
        "    x = x / np.max(x)\n",
        "    # 1s segment to analyze\n",
        "    # x = x[int(fs*1.6) : int(fs*3.6)]\n",
        "\n",
        "    X_data = modSpec(x, fs,win_size_sec)\n",
        "\n",
        "    ama.plot_modulation_spectrogram_data(X_data,\n",
        "                                         0,\n",
        "                                         modf_range=np.array([0, 20]),\n",
        "                                         c_range=np.array([-90, -50]))\n",
        "\n",
        "    # Get the current figure and convert it to a 3D array\n",
        "    fig = plt.gcf()\n",
        "    fig.canvas.draw()\n",
        "    plot_data_rgba = np.array(fig.canvas.renderer.buffer_rgba())\n",
        "    plt.close()  # Close the plot to free up resources\n",
        "\n",
        "    # Remove the alpha channel to get a 3D array\n",
        "    plot_data_rgb = plot_data_rgba[:, :, :3]\n",
        "\n",
        "    return plot_data_rgb\n",
        "\n"
      ]
    },
    {
      "cell_type": "code",
      "execution_count": null,
      "metadata": {
        "id": "O7fcZZ7QXBJB"
      },
      "outputs": [],
      "source": [
        "\n",
        "# # Get the spectrogram image\n",
        "filepath1 = \"/content/drive/MyDrive/RnD/EATD/Training/Utterances_D/negative_out_20.wav\"\n",
        "img1 = specImage(filepath1)\n",
        "\n",
        "filepath2 = \"/content/drive/MyDrive/RnD/EATD/Training/Utterances_D/negative_out_22.wav\"\n",
        "img2 = specImage(filepath2)"
      ]
    },
    {
      "cell_type": "code",
      "execution_count": null,
      "metadata": {
        "id": "Nh5QlFm0BnI-"
      },
      "outputs": [],
      "source": [
        "def ssimFromAudio(filepath1, filepath2,win_size=11):\n",
        "    img1 = specImage(filepath1)\n",
        "    img2 = specImage(filepath2)\n",
        "    ssim_score = metrics.structural_similarity(img1, img2, win_size=win_size, channel_axis=2)\n",
        "    return ssim_score\n",
        "\n",
        "def ssimFromImage(img1, img2,win_size=11):\n",
        "\n",
        "    ssim_score = metrics.structural_similarity(img1, img2, win_size=win_size, channel_axis=2)\n",
        "    return ssim_score\n",
        "\n",
        "def playAudio(path):\n",
        "    return Audio(path)"
      ]
    },
    {
      "cell_type": "code",
      "execution_count": null,
      "metadata": {
        "colab": {
          "base_uri": "https://localhost:8080/",
          "height": 227
        },
        "id": "y4zo8AFFIPpv",
        "outputId": "51be730e-be81-472a-8a55-53ed68c3f89d"
      },
      "outputs": [
        {
          "output_type": "error",
          "ename": "NameError",
          "evalue": "ignored",
          "traceback": [
            "\u001b[0;31m---------------------------------------------------------------------------\u001b[0m",
            "\u001b[0;31mNameError\u001b[0m                                 Traceback (most recent call last)",
            "\u001b[0;32m<ipython-input-5-d75bcc3668ab>\u001b[0m in \u001b[0;36m<cell line: 2>\u001b[0;34m()\u001b[0m\n\u001b[1;32m      1\u001b[0m \u001b[0;31m# win_size_sec=0.04\u001b[0m\u001b[0;34m\u001b[0m\u001b[0;34m\u001b[0m\u001b[0m\n\u001b[0;32m----> 2\u001b[0;31m \u001b[0mplt\u001b[0m\u001b[0;34m.\u001b[0m\u001b[0mimshow\u001b[0m\u001b[0;34m(\u001b[0m\u001b[0mspecImage\u001b[0m\u001b[0;34m(\u001b[0m\u001b[0mfilepath1\u001b[0m\u001b[0;34m,\u001b[0m\u001b[0mwin_size_sec\u001b[0m\u001b[0;34m=\u001b[0m\u001b[0;36m0.04\u001b[0m\u001b[0;34m)\u001b[0m\u001b[0;34m.\u001b[0m\u001b[0mastype\u001b[0m\u001b[0;34m(\u001b[0m\u001b[0mnp\u001b[0m\u001b[0;34m.\u001b[0m\u001b[0mint32\u001b[0m\u001b[0;34m)\u001b[0m\u001b[0;34m)\u001b[0m\u001b[0;34m\u001b[0m\u001b[0;34m\u001b[0m\u001b[0m\n\u001b[0m\u001b[1;32m      3\u001b[0m \u001b[0mplt\u001b[0m\u001b[0;34m.\u001b[0m\u001b[0maxis\u001b[0m\u001b[0;34m(\u001b[0m\u001b[0;34m'off'\u001b[0m\u001b[0;34m)\u001b[0m\u001b[0;34m\u001b[0m\u001b[0;34m\u001b[0m\u001b[0m\n\u001b[1;32m      4\u001b[0m \u001b[0mplt\u001b[0m\u001b[0;34m.\u001b[0m\u001b[0mshow\u001b[0m\u001b[0;34m(\u001b[0m\u001b[0;34m)\u001b[0m\u001b[0;34m\u001b[0m\u001b[0;34m\u001b[0m\u001b[0m\n",
            "\u001b[0;31mNameError\u001b[0m: name 'filepath1' is not defined"
          ]
        }
      ],
      "source": [
        "# win_size_sec=0.04\n",
        "plt.imshow(specImage(filepath1,win_size_sec=0.04).astype(np.int32))\n",
        "plt.axis('off')\n",
        "plt.show()"
      ]
    },
    {
      "cell_type": "code",
      "execution_count": null,
      "metadata": {
        "colab": {
          "background_save": true
        },
        "id": "8dOZtPn9I12A",
        "outputId": "a471e5d0-a9f2-4035-f2cb-b4b6fd6e67e1"
      },
      "outputs": [
        {
          "data": {
            "image/png": "[encoded data removed]",
            "text/plain": [
              "<Figure size 640x480 with 1 Axes>"
            ]
          },
          "metadata": {},
          "output_type": "display_data"
        }
      ],
      "source": [
        "# win_size_sec=0.02\n",
        "plt.imshow(specImage(filepath1,win_size_sec=0.4).astype(np.int32))\n",
        "plt.axis('off')\n",
        "plt.show()"
      ]
    },
    {
      "cell_type": "markdown",
      "metadata": {
        "id": "j-sKw2HnUvfh"
      },
      "source": [
        "Data\n"
      ]
    },
    {
      "cell_type": "code",
      "execution_count": null,
      "metadata": {
        "id": "aRmB5xa8UyLh"
      },
      "outputs": [],
      "source": [
        "# # EATD\n",
        "# # CODE : 1 if Depressed else 0\n",
        "EATD = {\n",
        "    \"TRAIN_D\": {\"src\": \"/content/drive/MyDrive/RnD/EATD/Training/Utterances_D/\", \"Storage\" : [], \"Code\" : 1},\n",
        "    \"TRAIN_ND\": {\"src\":  \"/content/drive/MyDrive/RnD/EATD/Training/Utterances_ND/\", \"Storage\" :[] ,\"Code\" : 0},\n",
        "    \"TEST_D\": {\"src\":\"/content/drive/MyDrive/RnD/EATD/Test/Test_D/\", \"Storage\": [],\"Code\" : 1},\n",
        "    \"TEST_ND\": {\"src\": \"/content/drive/MyDrive/RnD/EATD/Test/Test_ND/\", \"Storage\": [],\"Code\" : 0}\n",
        "}\n",
        "for key in EATD.keys():\n",
        "    EATD[key][\"Storage\"] =  glob.glob(EATD[key][\"src\"] + \"*\")\n",
        "\n",
        "\n"
      ]
    },
    {
      "cell_type": "code",
      "execution_count": null,
      "metadata": {
        "id": "zr2E4Xz8WMpM"
      },
      "outputs": [],
      "source": [
        "# EATD_SPEC_TRAIN = []\n",
        "\n",
        "# column = 'TRAIN_D'\n",
        "# code_value = EATD[column]['Code']  # Get the code value outside the loop\n",
        "\n",
        "# for i in tqdm(EATD[column]['Storage']):\n",
        "#     try:\n",
        "#         EATD_SPEC_TRAIN.append({\"Image\": specImage(i), \"Code\": code_value})\n",
        "#     except:\n",
        "#         print(f\"Error in {i}\")\n",
        "\n",
        "# column = 'TRAIN_ND'\n",
        "# code_value = EATD[column]['Code']  # Get the code value outside the loop\n",
        "\n",
        "# for i in tqdm(EATD[column]['Storage']):\n",
        "#     try:\n",
        "#         EATD_SPEC_TRAIN.append({\"Image\": specImage(i), \"Code\": code_value})\n",
        "#     except:\n",
        "#         print(f\"Error in {i}\")\n",
        "\n",
        "\n",
        "\n",
        "\n",
        "\n",
        "# EATD_SPEC_TEST= []\n",
        "\n",
        "# column = 'TEST_D'\n",
        "# code_value = EATD[column]['Code']  # Get the code value outside the loop\n",
        "\n",
        "# for i in tqdm(EATD[column]['Storage']):\n",
        "#     try:\n",
        "#         EATD_SPEC_TEST.append({\"Image\": specImage(i), \"Code\": code_value})\n",
        "#     except:\n",
        "#         print(f\"Error in {i}\")\n",
        "\n",
        "# column = 'TEST_ND'\n",
        "# code_value = EATD[column]['Code']  # Get the code value outside the loop\n",
        "\n",
        "# for i in tqdm(EATD[column]['Storage']):\n",
        "#     try:\n",
        "#         EATD_SPEC_TEST.append({\"Image\": specImage(i), \"Code\": code_value})\n",
        "#     except:\n",
        "#         print(f\"Error in {i}\")\n",
        "\n",
        "def generate_df (EATD,win_size_sec=0.04):\n",
        "    EATD_SPEC_TRAIN = []\n",
        "\n",
        "    column = 'TRAIN_D'\n",
        "    code_value = EATD[column]['Code']  # Get the code value outside the loop\n",
        "\n",
        "    for i in tqdm(EATD[column]['Storage']):\n",
        "        try:\n",
        "            EATD_SPEC_TRAIN.append({\"Image\": specImage(i,win_size_sec), \"Code\": code_value})\n",
        "        except:\n",
        "            print(f\"Error in {i}\")\n",
        "\n",
        "    column = 'TRAIN_ND'\n",
        "    code_value = EATD[column]['Code']  # Get the code value outside the loop\n",
        "\n",
        "    for i in tqdm(EATD[column]['Storage']):\n",
        "        try:\n",
        "            EATD_SPEC_TRAIN.append({\"Image\": specImage(i,win_size_sec), \"Code\": code_value})\n",
        "        except:\n",
        "            print(f\"Error in {i}\")\n",
        "\n",
        "\n",
        "\n",
        "\n",
        "\n",
        "    EATD_SPEC_TEST= []\n",
        "\n",
        "    column = 'TEST_D'\n",
        "    code_value = EATD[column]['Code']  # Get the code value outside the loop\n",
        "\n",
        "    for i in tqdm(EATD[column]['Storage']):\n",
        "        try:\n",
        "            EATD_SPEC_TEST.append({\"Image\": specImage(i,win_size_sec), \"Code\": code_value})\n",
        "        except:\n",
        "            print(f\"Error in {i}\")\n",
        "\n",
        "    column = 'TEST_ND'\n",
        "    code_value = EATD[column]['Code']  # Get the code value outside the loop\n",
        "\n",
        "    for i in tqdm(EATD[column]['Storage']):\n",
        "        try:\n",
        "            EATD_SPEC_TEST.append({\"Image\": specImage(i,win_size_sec), \"Code\": code_value})\n",
        "        except:\n",
        "            print(f\"Error in {i}\")\n",
        "    return EATD_SPEC_TRAIN,EATD_SPEC_TEST"
      ]
    },
    {
      "cell_type": "code",
      "execution_count": null,
      "metadata": {
        "id": "YmANk6zhTOfe",
        "colab": {
          "base_uri": "https://localhost:8080/"
        },
        "outputId": "6183914e-33cb-4c0f-9365-e6ec8f5ee5eb"
      },
      "outputs": [
        {
          "output_type": "stream",
          "name": "stderr",
          "text": [
            "100%|██████████| 57/57 [00:26<00:00,  2.17it/s]\n",
            "100%|██████████| 192/192 [01:59<00:00,  1.60it/s]\n",
            "100%|██████████| 33/33 [00:29<00:00,  1.12it/s]\n",
            "  4%|▍         | 9/201 [00:07<03:08,  1.02it/s]"
          ]
        },
        {
          "output_type": "stream",
          "name": "stdout",
          "text": [
            "Error in /content/drive/MyDrive/RnD/EATD/Test/Test_ND/positive_out_79.wav\n"
          ]
        },
        {
          "output_type": "stream",
          "name": "stderr",
          "text": [
            "100%|██████████| 201/201 [03:09<00:00,  1.06it/s]\n"
          ]
        }
      ],
      "source": [
        "# eatd_df_train = pd.DataFrame(EATD_SPEC_TRAIN)\n",
        "# eatd_df_test = pd.DataFrame(EATD_SPEC_TEST)\n",
        "\n",
        "eatd_df_train_0_01 ,eatd_df_test_0_01 = generate_df (EATD,win_size_sec=0.01)\n",
        "eatd_df_train_0_01 = pd.DataFrame(eatd_df_train_0_01)\n",
        "eatd_df_test_0_01 = pd.DataFrame(eatd_df_test_0_01)"
      ]
    },
    {
      "cell_type": "code",
      "execution_count": null,
      "metadata": {
        "id": "uPaSGaRt6J0F"
      },
      "outputs": [],
      "source": [
        "import pandas as pd\n",
        "import pickle\n",
        "\n",
        "load_path = '/content/drive/MyDrive/RnD/'\n",
        "save_path = '/content/drive/MyDrive/RnD/'\n",
        "\n",
        "# Assuming you have already loaded your data into eatd_df_train and eatd_df_test\n",
        "\n",
        "# Saving dataframes\n",
        "# with open(save_path + 'eatd_df_train_0_01.pkl', 'wb') as f:\n",
        "#     pickle.dump(eatd_df_train_0_01, f)\n",
        "\n",
        "# with open(save_path + 'eatd_df_test_0_01.pkl', 'wb') as f:\n",
        "#     pickle.dump(eatd_df_test_0_01, f)"
      ]
    },
    {
      "cell_type": "code",
      "execution_count": null,
      "metadata": {
        "id": "RQgs0zRbZn1G"
      },
      "outputs": [],
      "source": [
        "# Loading dataframes\n",
        "name  = \"_0_01\"\n",
        "with open(load_path + 'eatd_df_train'+name+'.pkl', 'rb') as f:\n",
        "    loaded_eatd_df_train_0_01 = pickle.load(f)\n",
        "\n",
        "with open(load_path + 'eatd_df_test'+name+'.pkl', 'rb') as f:\n",
        "    loaded_eatd_df_test_0_01 = pickle.load(f)"
      ]
    },
    {
      "cell_type": "code",
      "source": [
        "name  = \"_0_04\"\n",
        "with open(load_path + 'eatd_df_train'+name+'.pkl', 'rb') as f:\n",
        "    loaded_eatd_df_train_0_04 = pickle.load(f)\n",
        "\n",
        "with open(load_path + 'eatd_df_test'+name+'.pkl', 'rb') as f:\n",
        "    loaded_eatd_df_test_0_04 = pickle.load(f)"
      ],
      "metadata": {
        "id": "dIVCynwnZv5X"
      },
      "execution_count": null,
      "outputs": []
    },
    {
      "cell_type": "code",
      "source": [
        "name  = \"_0_004\"\n",
        "with open(load_path + 'eatd_df_train'+name+'.pkl', 'rb') as f:\n",
        "    loaded_eatd_df_train_0_004 = pickle.load(f)\n",
        "\n",
        "with open(load_path + 'eatd_df_test'+name+'.pkl', 'rb') as f:\n",
        "    loaded_eatd_df_test_0_004 = pickle.load(f)"
      ],
      "metadata": {
        "id": "QR9kfdMZZwXV"
      },
      "execution_count": null,
      "outputs": []
    },
    {
      "cell_type": "code",
      "source": [
        "x = loaded_eatd_df_train_0_01.iloc[0]['Image']\n",
        "y = loaded_eatd_df_train_0_04.iloc[0]['Image']\n",
        "z = loaded_eatd_df_train_0_004.iloc[0]['Image']\n"
      ],
      "metadata": {
        "id": "ZgTfVk6OZ8TB"
      },
      "execution_count": null,
      "outputs": []
    },
    {
      "cell_type": "code",
      "source": [
        "np.concatenate([x, y, z], axis=0).shape"
      ],
      "metadata": {
        "colab": {
          "base_uri": "https://localhost:8080/"
        },
        "id": "GiFiS8S692-z",
        "outputId": "562cd488-5bac-4d28-ab2f-bae3a3dc457a"
      },
      "execution_count": null,
      "outputs": [
        {
          "output_type": "execute_result",
          "data": {
            "text/plain": [
              "(1440, 640, 3)"
            ]
          },
          "metadata": {},
          "execution_count": 17
        }
      ]
    },
    {
      "cell_type": "code",
      "source": [
        "\n",
        "loaded_eatd_df_train = []\n",
        "loaded_eatd_df_test = []\n",
        "for i in range(len(loaded_eatd_df_train_0_01)):\n",
        "    x = loaded_eatd_df_train_0_01.iloc[i]['Image']\n",
        "    y = loaded_eatd_df_train_0_04.iloc[i]['Image']\n",
        "    z = loaded_eatd_df_train_0_004.iloc[i]['Image']\n",
        "    result = np.concatenate([x, y, z], axis=0)\n",
        "    loaded_eatd_df_train.append({\"Image\": result, \"Code\" : loaded_eatd_df_train_0_01.iloc[i][\"Code\"]})\n",
        "\n",
        "for i in range(len(loaded_eatd_df_test_0_01)):\n",
        "    x = loaded_eatd_df_test_0_01.iloc[i]['Image']\n",
        "    y = loaded_eatd_df_test_0_04.iloc[i]['Image']\n",
        "    z = loaded_eatd_df_test_0_004.iloc[i]['Image']\n",
        "    result = np.concatenate([x, y, z], axis=0)\n",
        "    loaded_eatd_df_test.append({\"Image\": result, \"Code\" : loaded_eatd_df_test_0_01.iloc[i][\"Code\"]})\n",
        "\n",
        "loaded_eatd_df_train = pd.DataFrame(loaded_eatd_df_train)\n",
        "loaded_eatd_df_test = pd.DataFrame(loaded_eatd_df_test)"
      ],
      "metadata": {
        "id": "F4dFzVcIaqwh"
      },
      "execution_count": null,
      "outputs": []
    },
    {
      "cell_type": "code",
      "source": [
        "\n",
        "loaded_eatd_df_test.iloc[0][\"Image\"].shape"
      ],
      "metadata": {
        "colab": {
          "base_uri": "https://localhost:8080/"
        },
        "id": "aOJBYXSj-Jx3",
        "outputId": "616e9c49-1a56-433b-e17d-e7788b4e237b"
      },
      "execution_count": null,
      "outputs": [
        {
          "output_type": "execute_result",
          "data": {
            "text/plain": [
              "(1440, 640, 3)"
            ]
          },
          "metadata": {},
          "execution_count": 41
        }
      ]
    },
    {
      "cell_type": "code",
      "execution_count": null,
      "metadata": {
        "id": "AZ9XP-2H6HpF"
      },
      "outputs": [],
      "source": [
        "# SSIM Score Analysis\n",
        "# Using EATD Train\n",
        "# D VS ND\n",
        "# SSIM_EATD_TRAIN_SSIM = []\n",
        "# for i in range(20):\n",
        "#     try:\n",
        "#         SSIM_EATD_TRAIN_SSIM.append(ssimFromImage(loaded_eatd_df_train[loaded_eatd_df_train['Code']==1]['Image'].values[i],loaded_eatd_df_train[loaded_eatd_df_train['Code']==0]['Image'].values[i]))\n",
        "#     except:\n",
        "#         print(\"*\")\n",
        "# plt.hist(SSIM_EATD_TRAIN_SSIM)\n",
        "# plt.show()"
      ]
    },
    {
      "cell_type": "code",
      "execution_count": null,
      "metadata": {
        "id": "YcZNU-w_3qcv"
      },
      "outputs": [],
      "source": [
        "# SSIM_EATD_TRAIN_SSIM"
      ]
    },
    {
      "cell_type": "code",
      "execution_count": null,
      "metadata": {
        "id": "Nw5unx7grN5e"
      },
      "outputs": [],
      "source": [
        "# print(f\"Mean of SSIM score is {np.mean(SSIM_EATD_TRAIN_SSIM)}\")"
      ]
    },
    {
      "cell_type": "code",
      "execution_count": null,
      "metadata": {
        "id": "9m4Ikji7g9i4"
      },
      "outputs": [],
      "source": [
        "# SSIM Score Analysis\n",
        "# Using EATD TEST\n",
        "# D VS ND\n",
        "\n",
        "# SSIM_EATD_TEST_SSIM = []\n",
        "# for i in tqdm(range(20)):\n",
        "#     try:\n",
        "#         SSIM_EATD_TEST_SSIM.append(ssimFromImage(loaded_eatd_df_test[loaded_eatd_df_test['Code']==1]['Image'].values[i],loaded_eatd_df_test[loaded_eatd_df_test['Code']==0]['Image'].values[i]))\n",
        "#     except:\n",
        "#         print(\"*\")\n",
        "# plt.hist(SSIM_EATD_TEST_SSIM)\n",
        "# plt.show()"
      ]
    },
    {
      "cell_type": "code",
      "execution_count": null,
      "metadata": {
        "id": "-YCz1FAu5KXq"
      },
      "outputs": [],
      "source": [
        "# print(f\"Mean SSIM from Test Set is {np.mean(SSIM_EATD_TEST_SSIM)} \")"
      ]
    },
    {
      "cell_type": "code",
      "execution_count": null,
      "metadata": {
        "id": "VGuW2SbdTXGb"
      },
      "outputs": [],
      "source": [
        "import torch\n",
        "import torch.nn as nn\n",
        "import torch.optim as optim\n",
        "from torch.utils.data import Dataset, DataLoader\n",
        "from torchvision import models, transforms\n",
        "from tqdm import tqdm\n",
        "\n",
        "# Define your custom dataset class\n",
        "class CustomDataset(Dataset):\n",
        "    def __init__(self, data_df, transform=None):\n",
        "        self.data_df = data_df\n",
        "        self.transform = transform\n",
        "\n",
        "    def __len__(self):\n",
        "        return len(self.data_df)\n",
        "\n",
        "    def __getitem__(self, idx):\n",
        "        image = self.data_df.iloc[idx]['Image']\n",
        "        label = self.data_df.iloc[idx]['Code']\n",
        "\n",
        "        if self.transform:\n",
        "            image = self.transform(image)\n",
        "\n",
        "        return image, label\n"
      ]
    },
    {
      "cell_type": "code",
      "execution_count": null,
      "metadata": {
        "id": "OL6RNyQAhSe2"
      },
      "outputs": [],
      "source": [
        "\n",
        "# Define the ResNet model\n",
        "class ResNetModel(nn.Module):\n",
        "    def __init__(self, num_classes):\n",
        "        super(ResNetModel, self).__init__()\n",
        "        self.resnet = models.resnet50(pretrained=True)\n",
        "        num_features = self.resnet.fc.in_features\n",
        "        self.resnet.fc = nn.Linear(num_features, num_classes)\n",
        "\n",
        "    def forward(self, x):\n",
        "        return self.resnet(x)\n",
        "\n",
        "# Define transformations\n",
        "transform = transforms.Compose([\n",
        "    transforms.ToPILImage(),\n",
        "    transforms.Resize((224, 224)),\n",
        "    transforms.ToTensor(),\n",
        "    transforms.Normalize(\n",
        "        mean=[0.485, 0.456, 0.406],\n",
        "        std=[0.229, 0.224, 0.225]\n",
        "    )\n",
        "])\n",
        "\n",
        "# Load train and test data\n",
        "train_dataset = CustomDataset(data_df=loaded_eatd_df_train, transform=transform)\n",
        "test_dataset = CustomDataset(data_df=loaded_eatd_df_test, transform=transform)\n",
        "train_loader = DataLoader(train_dataset, batch_size=32, shuffle=True)\n",
        "test_loader = DataLoader(test_dataset, batch_size=32, shuffle=False)\n",
        "\n"
      ]
    },
    {
      "cell_type": "code",
      "execution_count": null,
      "metadata": {
        "colab": {
          "base_uri": "https://localhost:8080/"
        },
        "id": "SbgfZwAex-it",
        "outputId": "2b72755f-8062-4329-930a-89c3e1364004"
      },
      "outputs": [
        {
          "output_type": "stream",
          "name": "stderr",
          "text": [
            "/usr/local/lib/python3.10/dist-packages/torchvision/models/_utils.py:208: UserWarning: The parameter 'pretrained' is deprecated since 0.13 and may be removed in the future, please use 'weights' instead.\n",
            "  warnings.warn(\n",
            "/usr/local/lib/python3.10/dist-packages/torchvision/models/_utils.py:223: UserWarning: Arguments other than a weight enum or `None` for 'weights' are deprecated since 0.13 and may be removed in the future. The current behavior is equivalent to passing `weights=ResNet50_Weights.IMAGENET1K_V1`. You can also use `weights=ResNet50_Weights.DEFAULT` to get the most up-to-date weights.\n",
            "  warnings.warn(msg)\n"
          ]
        },
        {
          "output_type": "stream",
          "name": "stdout",
          "text": [
            "Epoch 1/20 - Train Loss: 0.7041\n"
          ]
        },
        {
          "output_type": "stream",
          "name": "stderr",
          "text": []
        },
        {
          "output_type": "stream",
          "name": "stdout",
          "text": [
            "Epoch 2/20 - Train Loss: 0.5439\n"
          ]
        },
        {
          "output_type": "stream",
          "name": "stderr",
          "text": []
        },
        {
          "output_type": "stream",
          "name": "stdout",
          "text": [
            "Epoch 3/20 - Train Loss: 0.5465\n"
          ]
        },
        {
          "output_type": "stream",
          "name": "stderr",
          "text": []
        },
        {
          "output_type": "stream",
          "name": "stdout",
          "text": [
            "Epoch 4/20 - Train Loss: 0.4928\n"
          ]
        },
        {
          "output_type": "stream",
          "name": "stderr",
          "text": []
        },
        {
          "output_type": "stream",
          "name": "stdout",
          "text": [
            "Epoch 5/20 - Train Loss: 0.4690\n"
          ]
        },
        {
          "output_type": "stream",
          "name": "stderr",
          "text": []
        },
        {
          "output_type": "stream",
          "name": "stdout",
          "text": [
            "Epoch 6/20 - Train Loss: 0.4327\n"
          ]
        },
        {
          "output_type": "stream",
          "name": "stderr",
          "text": []
        },
        {
          "output_type": "stream",
          "name": "stdout",
          "text": [
            "Epoch 7/20 - Train Loss: 0.5279\n"
          ]
        },
        {
          "output_type": "stream",
          "name": "stderr",
          "text": []
        },
        {
          "output_type": "stream",
          "name": "stdout",
          "text": [
            "Epoch 8/20 - Train Loss: 0.4237\n"
          ]
        },
        {
          "output_type": "stream",
          "name": "stderr",
          "text": []
        },
        {
          "output_type": "stream",
          "name": "stdout",
          "text": [
            "Epoch 9/20 - Train Loss: 0.3553\n"
          ]
        },
        {
          "output_type": "stream",
          "name": "stderr",
          "text": []
        },
        {
          "output_type": "stream",
          "name": "stdout",
          "text": [
            "Epoch 10/20 - Train Loss: 0.4089\n"
          ]
        },
        {
          "output_type": "stream",
          "name": "stderr",
          "text": []
        },
        {
          "output_type": "stream",
          "name": "stdout",
          "text": [
            "Epoch 11/20 - Train Loss: 0.3312\n"
          ]
        },
        {
          "output_type": "stream",
          "name": "stderr",
          "text": []
        },
        {
          "output_type": "stream",
          "name": "stdout",
          "text": [
            "Epoch 12/20 - Train Loss: 0.2742\n"
          ]
        },
        {
          "output_type": "stream",
          "name": "stderr",
          "text": []
        },
        {
          "output_type": "stream",
          "name": "stdout",
          "text": [
            "Epoch 13/20 - Train Loss: 0.2416\n"
          ]
        },
        {
          "output_type": "stream",
          "name": "stderr",
          "text": []
        },
        {
          "output_type": "stream",
          "name": "stdout",
          "text": [
            "Epoch 14/20 - Train Loss: 0.3594\n"
          ]
        },
        {
          "output_type": "stream",
          "name": "stderr",
          "text": []
        },
        {
          "output_type": "stream",
          "name": "stdout",
          "text": [
            "Epoch 15/20 - Train Loss: 0.2772\n"
          ]
        },
        {
          "output_type": "stream",
          "name": "stderr",
          "text": []
        },
        {
          "output_type": "stream",
          "name": "stdout",
          "text": [
            "Epoch 16/20 - Train Loss: 0.2280\n"
          ]
        },
        {
          "output_type": "stream",
          "name": "stderr",
          "text": []
        },
        {
          "output_type": "stream",
          "name": "stdout",
          "text": [
            "Epoch 17/20 - Train Loss: 0.1383\n"
          ]
        },
        {
          "output_type": "stream",
          "name": "stderr",
          "text": []
        },
        {
          "output_type": "stream",
          "name": "stdout",
          "text": [
            "Epoch 18/20 - Train Loss: 0.0740\n"
          ]
        },
        {
          "output_type": "stream",
          "name": "stderr",
          "text": []
        },
        {
          "output_type": "stream",
          "name": "stdout",
          "text": [
            "Epoch 19/20 - Train Loss: 0.0931\n"
          ]
        },
        {
          "output_type": "stream",
          "name": "stderr",
          "text": [
            "                                                                             "
          ]
        },
        {
          "output_type": "stream",
          "name": "stdout",
          "text": [
            "Epoch 20/20 - Train Loss: 0.0756\n",
            "Training complete!\n",
            "Time taken :  104.5535876750946  s\n"
          ]
        },
        {
          "output_type": "stream",
          "name": "stderr",
          "text": [
            "\r"
          ]
        }
      ],
      "source": [
        "import time\n",
        "# Define the model and optimizer\n",
        "num_classes = 2  # Adjust based on your problem\n",
        "device = torch.device(\"cuda\" if torch.cuda.is_available() else \"cpu\")\n",
        "model = ResNetModel(num_classes).to(device)\n",
        "optimizer = optim.Adam(model.parameters(), lr=0.001)\n",
        "criterion = nn.CrossEntropyLoss()\n",
        "\n",
        "\n",
        "# Training loop with progress bar\n",
        "num_epochs = 20\n",
        "start_time = time.time()\n",
        "for epoch in range(num_epochs):\n",
        "    model.train()\n",
        "    train_loss = 0.0\n",
        "\n",
        "    # Create a tqdm progress bar for the training batches\n",
        "    train_progress = tqdm(train_loader, desc=f\"Epoch {epoch+1}/{num_epochs}\", leave=False)\n",
        "\n",
        "    for batch_inputs, batch_labels in train_progress:\n",
        "        batch_inputs, batch_labels = batch_inputs.to(device), batch_labels.to(device)\n",
        "\n",
        "        optimizer.zero_grad()\n",
        "        batch_outputs = model(batch_inputs)\n",
        "        loss = criterion(batch_outputs, batch_labels)\n",
        "        loss.backward()\n",
        "        optimizer.step()\n",
        "\n",
        "        train_loss += loss.item()\n",
        "\n",
        "        # Update the tqdm progress bar description with current loss\n",
        "        train_progress.set_postfix({\"Train Loss\": train_loss / len(train_progress)})\n",
        "\n",
        "    print(f\"Epoch {epoch+1}/{num_epochs} - Train Loss: {train_loss/len(train_loader):.4f}\")\n",
        "end_time = time.time()\n",
        "print(\"Training complete!\")\n",
        "print(\"Time taken : \",end_time-start_time ,\" s\")\n"
      ]
    },
    {
      "cell_type": "code",
      "execution_count": null,
      "metadata": {
        "id": "LlREtohFtwe_"
      },
      "outputs": [],
      "source": [
        "import seaborn as sns\n",
        "from sklearn.metrics import confusion_matrix\n",
        "import numpy as np\n",
        "import matplotlib.pyplot as plt\n",
        "\n",
        "def plotConfusionMatrix(batch_labels,predicted_labels):\n",
        "\n",
        "    # Move the tensors to CPU memory\n",
        "    all_batch_labels_cpu = batch_labels\n",
        "    all_predicted_labels_cpu = predicted_labels\n",
        "\n",
        "    # Create the confusion matrix\n",
        "    conf_matrix = confusion_matrix(all_batch_labels_cpu, all_predicted_labels_cpu)\n",
        "\n",
        "    # Plot the confusion matrix as a heatmap with a smaller figsize\n",
        "    plt.figure(figsize=(4, 4))  # Adjust the dimensions as needed\n",
        "    sns.set(font_scale=1.0)  # Adjust font scale as needed\n",
        "    sns.heatmap(conf_matrix, annot=True, fmt=\"d\", cmap=\"viridis\", annot_kws={\"size\": 10}, cbar=False)\n",
        "\n",
        "    # Adjust tick positions and labels\n",
        "    tick_positions = [0.5, 1.5]  # Center of each cell\n",
        "    plt.gca().set_xticks(tick_positions)\n",
        "    plt.gca().set_yticks(tick_positions)\n",
        "    plt.gca().set_xticklabels([\"ND\", \"D\"])\n",
        "    plt.gca().set_yticklabels([\"ND\", \"D\"])\n",
        "\n",
        "    plt.xlabel(\"Predicted Labels\")\n",
        "    plt.ylabel(\"True Labels\")\n",
        "    plt.title(\"Confusion Matrix\")\n",
        "    plt.show()"
      ]
    },
    {
      "cell_type": "code",
      "execution_count": null,
      "metadata": {
        "colab": {
          "base_uri": "https://localhost:8080/",
          "height": 471
        },
        "id": "1YEt-K7wl3sn",
        "outputId": "de8f1c7e-1bc0-4555-e9d6-05d0f529c687"
      },
      "outputs": [
        {
          "output_type": "stream",
          "name": "stderr",
          "text": [
            "Testing: 100%|██████████| 8/8 [00:02<00:00,  3.27it/s]\n"
          ]
        },
        {
          "output_type": "stream",
          "name": "stdout",
          "text": [
            "Test Accuracy: 81.5451 % \n",
            "\n"
          ]
        },
        {
          "output_type": "display_data",
          "data": {
            "text/plain": [
              "<Figure size 400x400 with 1 Axes>"
            ],
            "image/png": "[encoded data removed]"
          },
          "metadata": {}
        }
      ],
      "source": [
        "# Testing loop for test data\n",
        "model.eval()\n",
        "correct_predictions = 0\n",
        "total_samples = 0\n",
        "all_batch_labels = []\n",
        "all_predicted_labels = []\n",
        "\n",
        "for batch_inputs, batch_labels in tqdm(test_loader, desc=\"Testing\"):\n",
        "    batch_inputs, batch_labels = batch_inputs.to(device), batch_labels.to(device)\n",
        "\n",
        "    with torch.no_grad():\n",
        "        batch_outputs = model(batch_inputs)\n",
        "        predicted_labels = torch.argmax(batch_outputs, dim=1)\n",
        "\n",
        "    correct_predictions += (predicted_labels == batch_labels).sum().item()\n",
        "    total_samples += batch_labels.size(0)\n",
        "\n",
        "    all_batch_labels.extend(batch_labels.cpu().numpy())\n",
        "    all_predicted_labels.extend(predicted_labels.cpu().numpy())\n",
        "\n",
        "test_accuracy = correct_predictions / total_samples\n",
        "print(f\"Test Accuracy: {test_accuracy*100:.4f} % \\n\")\n",
        "\n",
        "# Convert the lists to numpy arrays\n",
        "all_batch_labels = np.array(all_batch_labels)\n",
        "all_predicted_labels = np.array(all_predicted_labels)\n",
        "plotConfusionMatrix(all_batch_labels, all_predicted_labels)"
      ]
    },
    {
      "cell_type": "code",
      "execution_count": null,
      "metadata": {
        "colab": {
          "base_uri": "https://localhost:8080/",
          "height": 454
        },
        "id": "iqXqbH4qTZkv",
        "outputId": "0afd0117-5a84-4d7f-ff9e-a37ff5886787"
      },
      "outputs": [
        {
          "output_type": "stream",
          "name": "stderr",
          "text": [
            "Training: 100%|██████████| 8/8 [00:02<00:00,  3.09it/s]"
          ]
        },
        {
          "output_type": "stream",
          "name": "stdout",
          "text": [
            "Train Accuracy: 97.1888 %\n"
          ]
        },
        {
          "output_type": "stream",
          "name": "stderr",
          "text": [
            "\n"
          ]
        },
        {
          "output_type": "display_data",
          "data": {
            "text/plain": [
              "<Figure size 400x400 with 1 Axes>"
            ],
            "image/png": "[encoded data removed]"
          },
          "metadata": {}
        }
      ],
      "source": [
        "# Testing loop for train data\n",
        "model.eval()\n",
        "correct_predictions = 0\n",
        "total_samples = 0\n",
        "all_batch_labels = []\n",
        "all_predicted_labels = []\n",
        "\n",
        "for batch_inputs, batch_labels in tqdm(train_loader, desc=\"Training\"):\n",
        "    batch_inputs, batch_labels = batch_inputs.to(device), batch_labels.to(device)\n",
        "\n",
        "    with torch.no_grad():\n",
        "        batch_outputs = model(batch_inputs)\n",
        "        predicted_labels = torch.argmax(batch_outputs, dim=1)\n",
        "\n",
        "    correct_predictions += (predicted_labels == batch_labels).sum().item()\n",
        "    total_samples += batch_labels.size(0)\n",
        "\n",
        "    all_batch_labels.extend(batch_labels.cpu().numpy())\n",
        "    all_predicted_labels.extend(predicted_labels.cpu().numpy())\n",
        "\n",
        "train_accuracy = correct_predictions / total_samples\n",
        "print(f\"Train Accuracy: {train_accuracy*100:.4f} %\")\n",
        "\n",
        "\n",
        "# Convert the lists to numpy arrays\n",
        "all_batch_labels = np.array(all_batch_labels)\n",
        "all_predicted_labels = np.array(all_predicted_labels)\n",
        "\n",
        "plotConfusionMatrix(all_batch_labels, all_predicted_labels)"
      ]
    },
    {
      "cell_type": "markdown",
      "metadata": {
        "id": "ERBDIquszLGF"
      },
      "source": [
        "\n",
        "**VGG 16**"
      ]
    },
    {
      "cell_type": "code",
      "execution_count": null,
      "metadata": {
        "id": "0EBpI_AhTfkj"
      },
      "outputs": [],
      "source": [
        "# import os\n",
        "# from keras.models import Model\n",
        "# from keras.optimizers import Adam\n",
        "# from keras.applications.vgg16 import VGG16, preprocess_input\n",
        "# from keras.preprocessing.image import ImageDataGenerator\n",
        "# from keras.callbacks import ModelCheckpoint, EarlyStopping\n",
        "# from keras.layers import Dense, Dropout, Flatten\n",
        "# from pathlib import Path\n",
        "# import numpy as np"
      ]
    },
    {
      "cell_type": "code",
      "execution_count": null,
      "metadata": {
        "id": "Uux2JfAUybxS"
      },
      "outputs": [],
      "source": [
        "# def create_VGG_model(input_shape, n_classes, optimizer='rmsprop', fine_tune=0):\n",
        "#     \"\"\"\n",
        "#     Compiles a model integrated with VGG16 pretrained layers\n",
        "\n",
        "#     input_shape: tuple - the shape of input images (width, height, channels)\n",
        "#     n_classes: int - number of classes for the output layer\n",
        "#     optimizer: string - instantiated optimizer to use for training. Defaults to 'RMSProp'\n",
        "#     fine_tune: int - The number of pre-trained layers to unfreeze.\n",
        "#                 If set to 0, all pretrained layers will freeze during training\n",
        "#     \"\"\"\n",
        "\n",
        "#     # Pretrained convolutional layers are loaded using the Imagenet weights.\n",
        "#     # Include_top is set to False, in order to exclude the model's fully-connected layers.\n",
        "#     conv_base = VGG16(include_top=False,\n",
        "#                      weights='imagenet',\n",
        "#                      input_shape=input_shape)\n",
        "\n",
        "#     # Defines how many layers to freeze during training.\n",
        "#     # Layers in the convolutional base are switched from trainable to non-trainable\n",
        "#     # depending on the size of the fine-tuning parameter.\n",
        "#     if fine_tune > 0:\n",
        "#         for layer in conv_base.layers[:-fine_tune]:\n",
        "#             layer.trainable = False\n",
        "#     else:\n",
        "#         for layer in conv_base.layers:\n",
        "#             layer.trainable = False\n",
        "\n",
        "#     # Create a new 'top' of the model (i.e. fully-connected layers).\n",
        "#     # This is 'bootstrapping' a new top_model onto the pretrained layers.\n",
        "#     top_model = conv_base.output\n",
        "#     top_model = Flatten(name=\"flatten\")(top_model)\n",
        "#     top_model = Dense(4096, activation='relu')(top_model)\n",
        "#     top_model = Dense(1072, activation='relu')(top_model)\n",
        "#     top_model = Dropout(0.2)(top_model)\n",
        "#     output_layer = Dense(1, activation='sigmoid')(top_model)\n",
        "\n",
        "#     # Group the convolutional base and new fully-connected layers into a Model object.\n",
        "#     model = Model(inputs=conv_base.input, outputs=output_layer)\n",
        "\n",
        "#     # Compiles the model for training.\n",
        "#     model.compile(optimizer=optimizer,\n",
        "#                   loss='categorical_crossentropy',\n",
        "#                   metrics=['accuracy'])\n",
        "\n",
        "#     return model"
      ]
    },
    {
      "cell_type": "code",
      "execution_count": null,
      "metadata": {
        "id": "JKQZpKxfV5sK"
      },
      "outputs": [],
      "source": [
        "# from sklearn.model_selection import train_test_split\n",
        "\n",
        "# # Assuming loaded_eatd_df_train contains your data and labels\n",
        "# data = loaded_eatd_df_train.drop(columns=['Code'])  # Extract features\n",
        "# labels = loaded_eatd_df_train['Code']  # Extract labels\n",
        "\n",
        "# # Split the dataset into training and validation sets\n",
        "# train_data, val_data, train_labels, val_labels = train_test_split(data, labels, test_size=0.2, random_state=42)\n",
        "\n"
      ]
    },
    {
      "cell_type": "code",
      "execution_count": null,
      "metadata": {
        "colab": {
          "base_uri": "https://localhost:8080/"
        },
        "id": "Z2s94uL24IMp",
        "outputId": "0882eea4-424d-4625-a041-bfb8f4a9372b"
      },
      "outputs": [
        {
          "name": "stdout",
          "output_type": "stream",
          "text": [
            "Downloading data from https://storage.googleapis.com/tensorflow/keras-applications/vgg16/vgg16_weights_tf_dim_ordering_tf_kernels_notop.h5\n",
            "58889256/58889256 [==============================] - 0s 0us/step\n"
          ]
        }
      ],
      "source": [
        "# # VGG_model =  create_VGG_model(input_shape = img1.shape, n_classes =2)\n",
        "# input_shape = img1.shape\n",
        "# optim_1 = Adam(learning_rate=0.001)\n",
        "# n_classes=2\n",
        "\n",
        "# n_steps = len(train_data) // 32  #batch size\n",
        "# n_val_steps =  len(val_data) // 32\n",
        "# n_epochs = 50\n",
        "# n_epochs = 2\n",
        "\n",
        "# # First we'll train the model without Fine-tuning\n",
        "# vgg_model = create_VGG_model(input_shape, n_classes, optim_1, fine_tune=0)"
      ]
    },
    {
      "cell_type": "code",
      "execution_count": null,
      "metadata": {
        "colab": {
          "base_uri": "https://localhost:8080/"
        },
        "id": "60GG1OzfWdhn",
        "outputId": "47c7f75c-ca15-4816-d9a4-7108387f9bff"
      },
      "outputs": [
        {
          "name": "stdout",
          "output_type": "stream",
          "text": [
            "Collecting livelossplot\n",
            "  Downloading livelossplot-0.5.5-py3-none-any.whl (22 kB)\n",
            "Requirement already satisfied: matplotlib in /usr/local/lib/python3.10/dist-packages (from livelossplot) (3.7.1)\n",
            "Requirement already satisfied: bokeh in /usr/local/lib/python3.10/dist-packages (from livelossplot) (3.2.2)\n",
            "Requirement already satisfied: Jinja2>=2.9 in /usr/local/lib/python3.10/dist-packages (from bokeh->livelossplot) (3.1.2)\n",
            "Requirement already satisfied: contourpy>=1 in /usr/local/lib/python3.10/dist-packages (from bokeh->livelossplot) (1.1.0)\n",
            "Requirement already satisfied: numpy>=1.16 in /usr/local/lib/python3.10/dist-packages (from bokeh->livelossplot) (1.23.5)\n",
            "Requirement already satisfied: packaging>=16.8 in /usr/local/lib/python3.10/dist-packages (from bokeh->livelossplot) (23.1)\n",
            "Requirement already satisfied: pandas>=1.2 in /usr/local/lib/python3.10/dist-packages (from bokeh->livelossplot) (1.5.3)\n",
            "Requirement already satisfied: pillow>=7.1.0 in /usr/local/lib/python3.10/dist-packages (from bokeh->livelossplot) (9.4.0)\n",
            "Requirement already satisfied: PyYAML>=3.10 in /usr/local/lib/python3.10/dist-packages (from bokeh->livelossplot) (6.0.1)\n",
            "Requirement already satisfied: tornado>=5.1 in /usr/local/lib/python3.10/dist-packages (from bokeh->livelossplot) (6.3.2)\n",
            "Requirement already satisfied: xyzservices>=2021.09.1 in /usr/local/lib/python3.10/dist-packages (from bokeh->livelossplot) (2023.7.0)\n",
            "Requirement already satisfied: cycler>=0.10 in /usr/local/lib/python3.10/dist-packages (from matplotlib->livelossplot) (0.11.0)\n",
            "Requirement already satisfied: fonttools>=4.22.0 in /usr/local/lib/python3.10/dist-packages (from matplotlib->livelossplot) (4.42.1)\n",
            "Requirement already satisfied: kiwisolver>=1.0.1 in /usr/local/lib/python3.10/dist-packages (from matplotlib->livelossplot) (1.4.4)\n",
            "Requirement already satisfied: pyparsing>=2.3.1 in /usr/local/lib/python3.10/dist-packages (from matplotlib->livelossplot) (3.1.1)\n",
            "Requirement already satisfied: python-dateutil>=2.7 in /usr/local/lib/python3.10/dist-packages (from matplotlib->livelossplot) (2.8.2)\n",
            "Requirement already satisfied: MarkupSafe>=2.0 in /usr/local/lib/python3.10/dist-packages (from Jinja2>=2.9->bokeh->livelossplot) (2.1.3)\n",
            "Requirement already satisfied: pytz>=2020.1 in /usr/local/lib/python3.10/dist-packages (from pandas>=1.2->bokeh->livelossplot) (2023.3)\n",
            "Requirement already satisfied: six>=1.5 in /usr/local/lib/python3.10/dist-packages (from python-dateutil>=2.7->matplotlib->livelossplot) (1.16.0)\n",
            "Installing collected packages: livelossplot\n",
            "Successfully installed livelossplot-0.5.5\n"
          ]
        }
      ],
      "source": [
        "# !pip install livelossplot\n"
      ]
    },
    {
      "cell_type": "code",
      "execution_count": null,
      "metadata": {
        "id": "UnsaCoU9T0Ek"
      },
      "outputs": [],
      "source": [
        "# from livelossplot.inputs.keras import PlotLossesCallback\n",
        "\n",
        "# plot_loss_1 = PlotLossesCallback()\n",
        "\n",
        "# # ModelCheckpoint callback - save best weights\n",
        "# tl_checkpoint_1 = ModelCheckpoint(filepath='tl_model_v1.weights.best.hdf5',\n",
        "#                                   save_best_only=True,\n",
        "#                                   verbose=1)\n",
        "\n",
        "# # EarlyStopping\n",
        "# early_stop = EarlyStopping(monitor='val_loss',\n",
        "#                            patience=10,\n",
        "#                            restore_best_weights=True,\n",
        "#                            mode='min')"
      ]
    },
    {
      "cell_type": "code",
      "execution_count": null,
      "metadata": {
        "colab": {
          "base_uri": "https://localhost:8080/"
        },
        "id": "jbEap2zWVo9W",
        "outputId": "60525e6a-fe6c-477f-b65b-6d8cf97dafa6"
      },
      "outputs": [
        {
          "name": "stdout",
          "output_type": "stream",
          "text": [
            "CPU times: user 477 ms, sys: 410 ms, total: 887 ms\n",
            "Wall time: 1.69 s\n"
          ]
        }
      ],
      "source": [
        "# %%time\n",
        "\n",
        "\n",
        "# # Convert DataFrame columns to numpy arrays\n",
        "# train_data_array = train_data.values\n",
        "# val_data_array = val_data.values\n",
        "\n",
        "# # Preprocess the data\n",
        "# train_data_preprocessed = []\n",
        "# val_data_preprocessed = []\n",
        "# for i in train_data_array:\n",
        "#     train_data_preprocessed.append(  preprocess_input(i[0])  )\n",
        "\n",
        "# for i in val_data_array:\n",
        "#     val_data_preprocessed.append(  preprocess_input(i[0])  )\n",
        "\n",
        "\n"
      ]
    },
    {
      "cell_type": "code",
      "execution_count": null,
      "metadata": {
        "colab": {
          "base_uri": "https://localhost:8080/",
          "height": 824
        },
        "id": "QSuXA3EWWumd",
        "outputId": "68baa85f-ac88-4aaf-9270-a25c85ac7e1a"
      },
      "outputs": [
        {
          "name": "stdout",
          "output_type": "stream",
          "text": [
            "Epoch 1/2\n"
          ]
        },
        {
          "ename": "ResourceExhaustedError",
          "evalue": "ignored",
          "output_type": "error",
          "traceback": [
            "\u001b[0;31m---------------------------------------------------------------------------\u001b[0m",
            "\u001b[0;31mResourceExhaustedError\u001b[0m                    Traceback (most recent call last)",
            "\u001b[0;32m<ipython-input-33-30105ac69eb1>\u001b[0m in \u001b[0;36m<cell line: 9>\u001b[0;34m()\u001b[0m\n\u001b[1;32m      7\u001b[0m \u001b[0mval_labels_reshaped\u001b[0m \u001b[0;34m=\u001b[0m \u001b[0mnp\u001b[0m\u001b[0;34m.\u001b[0m\u001b[0marray\u001b[0m\u001b[0;34m(\u001b[0m\u001b[0mval_labels\u001b[0m\u001b[0;34m)\u001b[0m\u001b[0;34m.\u001b[0m\u001b[0mreshape\u001b[0m\u001b[0;34m(\u001b[0m\u001b[0;34m(\u001b[0m\u001b[0;34m-\u001b[0m\u001b[0;36m1\u001b[0m\u001b[0;34m,\u001b[0m \u001b[0;36m1\u001b[0m\u001b[0;34m)\u001b[0m\u001b[0;34m)\u001b[0m\u001b[0;34m\u001b[0m\u001b[0;34m\u001b[0m\u001b[0m\n\u001b[1;32m      8\u001b[0m \u001b[0;34m\u001b[0m\u001b[0m\n\u001b[0;32m----> 9\u001b[0;31m vgg_history = vgg_model.fit(\n\u001b[0m\u001b[1;32m     10\u001b[0m     \u001b[0mx\u001b[0m\u001b[0;34m=\u001b[0m\u001b[0mnp\u001b[0m\u001b[0;34m.\u001b[0m\u001b[0marray\u001b[0m\u001b[0;34m(\u001b[0m\u001b[0mtrain_data_preprocessed\u001b[0m\u001b[0;34m)\u001b[0m\u001b[0;34m,\u001b[0m\u001b[0;34m\u001b[0m\u001b[0;34m\u001b[0m\u001b[0m\n\u001b[1;32m     11\u001b[0m     \u001b[0my\u001b[0m\u001b[0;34m=\u001b[0m\u001b[0mtrain_labels_reshaped\u001b[0m\u001b[0;34m,\u001b[0m  \u001b[0;31m# Use the reshaped labels\u001b[0m\u001b[0;34m\u001b[0m\u001b[0;34m\u001b[0m\u001b[0m\n",
            "\u001b[0;32m/usr/local/lib/python3.10/dist-packages/keras/utils/traceback_utils.py\u001b[0m in \u001b[0;36merror_handler\u001b[0;34m(*args, **kwargs)\u001b[0m\n\u001b[1;32m     68\u001b[0m             \u001b[0;31m# To get the full stack trace, call:\u001b[0m\u001b[0;34m\u001b[0m\u001b[0;34m\u001b[0m\u001b[0m\n\u001b[1;32m     69\u001b[0m             \u001b[0;31m# `tf.debugging.disable_traceback_filtering()`\u001b[0m\u001b[0;34m\u001b[0m\u001b[0;34m\u001b[0m\u001b[0m\n\u001b[0;32m---> 70\u001b[0;31m             \u001b[0;32mraise\u001b[0m \u001b[0me\u001b[0m\u001b[0;34m.\u001b[0m\u001b[0mwith_traceback\u001b[0m\u001b[0;34m(\u001b[0m\u001b[0mfiltered_tb\u001b[0m\u001b[0;34m)\u001b[0m \u001b[0;32mfrom\u001b[0m \u001b[0;32mNone\u001b[0m\u001b[0;34m\u001b[0m\u001b[0;34m\u001b[0m\u001b[0m\n\u001b[0m\u001b[1;32m     71\u001b[0m         \u001b[0;32mfinally\u001b[0m\u001b[0;34m:\u001b[0m\u001b[0;34m\u001b[0m\u001b[0;34m\u001b[0m\u001b[0m\n\u001b[1;32m     72\u001b[0m             \u001b[0;32mdel\u001b[0m \u001b[0mfiltered_tb\u001b[0m\u001b[0;34m\u001b[0m\u001b[0;34m\u001b[0m\u001b[0m\n",
            "\u001b[0;32m/usr/local/lib/python3.10/dist-packages/tensorflow/python/framework/func_graph.py\u001b[0m in \u001b[0;36mautograph_handler\u001b[0;34m(*args, **kwargs)\u001b[0m\n\u001b[1;32m   1198\u001b[0m           \u001b[0;32mexcept\u001b[0m \u001b[0mException\u001b[0m \u001b[0;32mas\u001b[0m \u001b[0me\u001b[0m\u001b[0;34m:\u001b[0m  \u001b[0;31m# pylint:disable=broad-except\u001b[0m\u001b[0;34m\u001b[0m\u001b[0;34m\u001b[0m\u001b[0m\n\u001b[1;32m   1199\u001b[0m             \u001b[0;32mif\u001b[0m \u001b[0mhasattr\u001b[0m\u001b[0;34m(\u001b[0m\u001b[0me\u001b[0m\u001b[0;34m,\u001b[0m \u001b[0;34m\"ag_error_metadata\"\u001b[0m\u001b[0;34m)\u001b[0m\u001b[0;34m:\u001b[0m\u001b[0;34m\u001b[0m\u001b[0;34m\u001b[0m\u001b[0m\n\u001b[0;32m-> 1200\u001b[0;31m               \u001b[0;32mraise\u001b[0m \u001b[0me\u001b[0m\u001b[0;34m.\u001b[0m\u001b[0mag_error_metadata\u001b[0m\u001b[0;34m.\u001b[0m\u001b[0mto_exception\u001b[0m\u001b[0;34m(\u001b[0m\u001b[0me\u001b[0m\u001b[0;34m)\u001b[0m\u001b[0;34m\u001b[0m\u001b[0;34m\u001b[0m\u001b[0m\n\u001b[0m\u001b[1;32m   1201\u001b[0m             \u001b[0;32melse\u001b[0m\u001b[0;34m:\u001b[0m\u001b[0;34m\u001b[0m\u001b[0;34m\u001b[0m\u001b[0m\n\u001b[1;32m   1202\u001b[0m               \u001b[0;32mraise\u001b[0m\u001b[0;34m\u001b[0m\u001b[0;34m\u001b[0m\u001b[0m\n",
            "\u001b[0;31mResourceExhaustedError\u001b[0m: in user code:\n\n    File \"/usr/local/lib/python3.10/dist-packages/keras/engine/training.py\", line 1284, in train_function  *\n        return step_function(self, iterator)\n    File \"/usr/local/lib/python3.10/dist-packages/keras/engine/training.py\", line 1268, in step_function  **\n        outputs = model.distribute_strategy.run(run_step, args=(data,))\n    File \"/usr/local/lib/python3.10/dist-packages/keras/engine/training.py\", line 1249, in run_step  **\n        outputs = model.train_step(data)\n    File \"/usr/local/lib/python3.10/dist-packages/keras/engine/training.py\", line 1054, in train_step\n        self.optimizer.minimize(loss, self.trainable_variables, tape=tape)\n    File \"/usr/local/lib/python3.10/dist-packages/keras/optimizers/optimizer.py\", line 543, in minimize\n        self.apply_gradients(grads_and_vars)\n    File \"/usr/local/lib/python3.10/dist-packages/keras/optimizers/optimizer.py\", line 1174, in apply_gradients\n        return super().apply_gradients(grads_and_vars, name=name)\n    File \"/usr/local/lib/python3.10/dist-packages/keras/optimizers/optimizer.py\", line 637, in apply_gradients\n        self.build(trainable_variables)\n    File \"/usr/local/lib/python3.10/dist-packages/keras/optimizers/adam.py\", line 139, in build\n        self.add_variable_from_reference(\n    File \"/usr/local/lib/python3.10/dist-packages/keras/optimizers/optimizer.py\", line 1106, in add_variable_from_reference\n        return super().add_variable_from_reference(\n    File \"/usr/local/lib/python3.10/dist-packages/keras/optimizers/optimizer.py\", line 507, in add_variable_from_reference\n        initial_value = tf.zeros(\n\n    ResourceExhaustedError: {{function_node __wrapped__Fill_device_/job:localhost/replica:0/task:0/device:GPU:0}} OOM when allocating tensor with shape[153600,4096] and type float on /job:localhost/replica:0/task:0/device:GPU:0 by allocator GPU_0_bfc [Op:Fill]\n"
          ]
        }
      ],
      "source": [
        "# # Compile the model with 'binary_crossentropy' loss\n",
        "# vgg_model.compile(optimizer='adam', loss='binary_crossentropy', metrics=['accuracy'])\n",
        "\n",
        "\n",
        "# # Fit the model\n",
        "# train_labels_reshaped = np.array(train_labels).reshape((-1, 1))\n",
        "# val_labels_reshaped = np.array(val_labels).reshape((-1, 1))\n",
        "\n",
        "# vgg_history = vgg_model.fit(\n",
        "#     x=np.array(train_data_preprocessed),\n",
        "#     y=train_labels_reshaped,  # Use the reshaped labels\n",
        "#     batch_size=1,\n",
        "#     epochs=n_epochs,\n",
        "#     validation_data=(np.array(val_data_preprocessed), val_labels_reshaped),  # Use the reshaped labels here\n",
        "#     steps_per_epoch=n_steps,\n",
        "#     validation_steps=n_val_steps,\n",
        "#     callbacks=[tl_checkpoint_1, early_stop, plot_loss_1],\n",
        "#     verbose=1\n",
        "# )"
      ]
    }
  ],
  "metadata": {
    "accelerator": "GPU",
    "colab": {
      "provenance": []
    },
    "kernelspec": {
      "display_name": "Python 3",
      "name": "python3"
    },
    "language_info": {
      "name": "python"
    }
  },
  "nbformat": 4,
  "nbformat_minor": 0
}